{
 "cells": [
  {
   "cell_type": "markdown",
   "metadata": {},
   "source": [
    "# Funções "
   ]
  },
  {
   "cell_type": "code",
   "execution_count": 1,
   "metadata": {},
   "outputs": [
    {
     "data": {
      "text/plain": [
       "'\\nIntrodução às funções (def) em Python\\nFunções são trechos de código usados para \\nreplicar determinada ação ao longo do seu código.\\nElas podem receber valores para parâmetros (argumentos) \\ne retornar um valor específico.\\nPor padrão, funções Python retornam None (nada).\\n'"
      ]
     },
     "execution_count": 1,
     "metadata": {},
     "output_type": "execute_result"
    }
   ],
   "source": [
    "\"\"\"\n",
    "Introdução às funções (def) em Python\n",
    "Funções são trechos de código usados para \n",
    "replicar determinada ação ao longo do seu código.\n",
    "Elas podem receber valores para parâmetros (argumentos) \n",
    "e retornar um valor específico.\n",
    "Por padrão, funções Python retornam None (nada).\n",
    "\"\"\"\n",
    "\n"
   ]
  },
  {
   "cell_type": "code",
   "execution_count": 2,
   "metadata": {},
   "outputs": [
    {
     "name": "stdout",
     "output_type": "stream",
     "text": [
      "Olá, Luiz Otávio!\n",
      "Olá, Maria!\n",
      "Olá, Helena!\n",
      "Olá, Sem nome!\n"
     ]
    }
   ],
   "source": [
    "\n",
    "# def Print(a, b, c):\n",
    "#     print('Várias1')\n",
    "#     print('Várias2')\n",
    "#     print('Várias3')\n",
    "#     print('Várias4')\n",
    "\n",
    "# def imprimir(a, b, c):\n",
    "#     print(a, b, c)\n",
    "\n",
    "\n",
    "# imprimir(1, 2, 3)\n",
    "# imprimir(4, 5, 6)\n",
    "\n",
    "def saudacao(nome='Sem nome'):\n",
    "    print(f'Olá, {nome}!')\n",
    "\n",
    "\n",
    "saudacao('Luiz Otávio')\n",
    "saudacao('Maria')\n",
    "saudacao('Helena')\n",
    "saudacao()"
   ]
  }
 ],
 "metadata": {
  "kernelspec": {
   "display_name": "Python 3",
   "language": "python",
   "name": "python3"
  },
  "language_info": {
   "codemirror_mode": {
    "name": "ipython",
    "version": 3
   },
   "file_extension": ".py",
   "mimetype": "text/x-python",
   "name": "python",
   "nbconvert_exporter": "python",
   "pygments_lexer": "ipython3",
   "version": "3.12.0"
  }
 },
 "nbformat": 4,
 "nbformat_minor": 2
}
