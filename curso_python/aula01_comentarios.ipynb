{
 "cells": [
  {
   "cell_type": "markdown",
   "metadata": {},
   "source": [
    "# Comentários"
   ]
  },
  {
   "cell_type": "markdown",
   "metadata": {},
   "source": [
    "A leitura de o arquivo Python (ou módulo) é feita da esquerda para direita, e de cima para baixo. Mas quando o interpretador Python identifica um símbolo da \"#\" (cerquilha, hashtag ou tralha), a leitura da linha para a depois (direita) é ignorada."
   ]
  },
  {
   "cell_type": "code",
   "execution_count": 17,
   "metadata": {},
   "outputs": [
    {
     "name": "stdout",
     "output_type": "stream",
     "text": [
      "64\n"
     ]
    }
   ],
   "source": [
    "print(8*8)"
   ]
  },
  {
   "cell_type": "markdown",
   "metadata": {},
   "source": [
    "A função *print* tem a função de mostrar algo na tela (terminal, especificamente). Mas se quisermos colocar um comentário, podemos fazer da seguinte forma:"
   ]
  },
  {
   "cell_type": "code",
   "execution_count": 18,
   "metadata": {},
   "outputs": [
    {
     "name": "stdout",
     "output_type": "stream",
     "text": [
      "64\n"
     ]
    }
   ],
   "source": [
    "# Comentário 1 - acima - toda a linha ignorada\n",
    "\n",
    "print(8*8)  # Cometário 2 - daqui para frente - tudo será ignorado \n",
    "\n",
    "# Comentário 3 - abaixo - toda a linha ignorada."
   ]
  },
  {
   "cell_type": "markdown",
   "metadata": {},
   "source": [
    "A função do comentário é basicamente explicar para o programador que lerá o código o objetivo da implentação ou alguma explicação para mostrar \"clareza\" para o mantenedor. Esse recurso também pode ser utilizado para ajudar na documentação do sistema que será implementado."
   ]
  },
  {
   "cell_type": "markdown",
   "metadata": {},
   "source": [
    "Mas quando é necessário um comentário de várias linhas, o Python oferece na forma três aspas simples (plicas)."
   ]
  },
  {
   "cell_type": "code",
   "execution_count": 19,
   "metadata": {},
   "outputs": [
    {
     "data": {
      "text/plain": [
       "'\\nEsse comentário representa\\ntanto uma documentação, tanto \\num comentário mais longo que exija múltiplas linhas.\\n\\n'"
      ]
     },
     "execution_count": 19,
     "metadata": {},
     "output_type": "execute_result"
    }
   ],
   "source": [
    "'''\n",
    "Esse comentário representa\n",
    "tanto uma documentação, tanto \n",
    "um comentário mais longo que exija múltiplas linhas.\n",
    "\n",
    "'''"
   ]
  },
  {
   "cell_type": "markdown",
   "metadata": {},
   "source": [
    "Esse recurso é chamado *Docstring* que são representadas por *\"três aspas duplas\"* ou *\"três aspas duplas\"*. "
   ]
  },
  {
   "cell_type": "code",
   "execution_count": 20,
   "metadata": {},
   "outputs": [
    {
     "data": {
      "text/plain": [
       "'Esse comentário representa\\ntanto uma documentação, tanto \\num comentário mais longo que exija múltiplas linhas.\\n'"
      ]
     },
     "execution_count": 20,
     "metadata": {},
     "output_type": "execute_result"
    }
   ],
   "source": [
    "\"\"\"Esse comentário representa\n",
    "tanto uma documentação, tanto \n",
    "um comentário mais longo que exija múltiplas linhas.\n",
    "\"\"\""
   ]
  },
  {
   "cell_type": "markdown",
   "metadata": {},
   "source": [
    "O detalhe é que o mesmo caracter que abra a Docstring deve ser o mesmo que deve fecha-la."
   ]
  },
  {
   "cell_type": "code",
   "execution_count": 21,
   "metadata": {},
   "outputs": [
    {
     "ename": "SyntaxError",
     "evalue": "incomplete input (322923619.py, line 1)",
     "output_type": "error",
     "traceback": [
      "\u001b[1;36m  Cell \u001b[1;32mIn[21], line 1\u001b[1;36m\u001b[0m\n\u001b[1;33m    \"\"\"Esse comentário representa\u001b[0m\n\u001b[1;37m    ^\u001b[0m\n\u001b[1;31mSyntaxError\u001b[0m\u001b[1;31m:\u001b[0m incomplete input\n"
     ]
    }
   ],
   "source": [
    "\"\"\"Esse comentário representa\n",
    "tanto uma documentação, tanto \n",
    "um comentário mais longo que exija múltiplas linhas.\n",
    "'''"
   ]
  },
  {
   "cell_type": "markdown",
   "metadata": {},
   "source": [
    "Como podemos ver, precisamente o **Docstring não é um comentário** já que o interpretador reconhece e lê esse valor contigo nessas aspas. Ela serve especificar a documentação do desenvolvimento."
   ]
  }
 ],
 "metadata": {
  "kernelspec": {
   "display_name": "Python 3",
   "language": "python",
   "name": "python3"
  },
  "language_info": {
   "codemirror_mode": {
    "name": "ipython",
    "version": 3
   },
   "file_extension": ".py",
   "mimetype": "text/x-python",
   "name": "python",
   "nbconvert_exporter": "python",
   "pygments_lexer": "ipython3",
   "version": "3.11.1"
  }
 },
 "nbformat": 4,
 "nbformat_minor": 2
}
